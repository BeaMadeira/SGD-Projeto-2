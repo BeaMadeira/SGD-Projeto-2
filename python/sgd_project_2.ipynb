{
  "cells": [
    {
      "cell_type": "markdown",
      "metadata": {
        "id": "D2poR0XdBqsj"
      },
      "source": [
        "# Trabalho Prático Laboratorial #2"
      ]
    },
    {
      "cell_type": "markdown",
      "metadata": {},
      "source": [
        "- Usar PySpark?"
      ]
    },
    {
      "cell_type": "code",
      "execution_count": 1,
      "metadata": {
        "id": "M0HsaQakBLum"
      },
      "outputs": [],
      "source": [
        "# Import Modules\n",
        "import os\n",
        "import numpy as np\n",
        "import pandas as pd\n",
        "import seaborn as sns\n",
        "import matplotlib.pyplot as plt\n",
        "import datetime as dt"
      ]
    },
    {
      "cell_type": "code",
      "execution_count": 3,
      "metadata": {
        "id": "HMYiXw5CByAa"
      },
      "outputs": [],
      "source": [
        "\n",
        "data_path = \"../data\"\n",
        "forest_path = os.path.join(data_path, \"forest-area\", \"API_AG.LND.FRST.K2_DS2_en_csv_v2_4019655.csv\")\n",
        "surface_path = os.path.join(data_path, \"surface-area\", \"API_AG.SRF.TOTL.K2_DS2_en_csv_v2_4023648.csv\")\n",
        "header_rows =  [0, 2]"
      ]
    },
    {
      "cell_type": "markdown",
      "metadata": {},
      "source": [
        "### 1. Qual variação da área florestal de cada país ao longo do tempo?"
      ]
    },
    {
      "cell_type": "code",
      "execution_count": 4,
      "metadata": {},
      "outputs": [],
      "source": [
        "# Read Datasets\n",
        "forest_data = pd.read_csv(forest_path, skiprows=header_rows)\n",
        "\n",
        "# Removes row if all values are NaN\n",
        "forest_data = forest_data.dropna(axis=0, how='all')\n",
        "\n",
        "# Removes column if all values are NaN\n",
        "forest_data = forest_data.dropna(axis=1, how='all')"
      ]
    },
    {
      "cell_type": "markdown",
      "metadata": {},
      "source": [
        "### 2. Qual o rácio entre a área florestal e a área total de cada país?**"
      ]
    },
    {
      "cell_type": "code",
      "execution_count": 5,
      "metadata": {},
      "outputs": [],
      "source": [
        "# Read Datasets\n",
        "forest_data = pd.read_csv(forest_path, skiprows=header_rows)\n",
        "surface_data = pd.read_csv(surface_path, skiprows=header_rows)\n",
        "\n",
        "# Removes row if all values are NaN\n",
        "forest_data = forest_data.dropna(axis=0, how='all')\n",
        "surface_data = surface_data.dropna(axis=0, how='all')\n",
        "\n",
        "# Removes column if all values are NaN\n",
        "forest_data = forest_data.dropna(axis=1, how='all')\n",
        "surface_data = surface_data.dropna(axis=1, how='all')"
      ]
    },
    {
      "cell_type": "code",
      "execution_count": 6,
      "metadata": {},
      "outputs": [
        {
          "data": {
            "text/html": [
              "<div>\n",
              "<style scoped>\n",
              "    .dataframe tbody tr th:only-of-type {\n",
              "        vertical-align: middle;\n",
              "    }\n",
              "\n",
              "    .dataframe tbody tr th {\n",
              "        vertical-align: top;\n",
              "    }\n",
              "\n",
              "    .dataframe thead th {\n",
              "        text-align: right;\n",
              "    }\n",
              "</style>\n",
              "<table border=\"1\" class=\"dataframe\">\n",
              "  <thead>\n",
              "    <tr style=\"text-align: right;\">\n",
              "      <th></th>\n",
              "      <th>Country Name</th>\n",
              "      <th>Country Code</th>\n",
              "      <th>Indicator Name</th>\n",
              "      <th>Indicator Code</th>\n",
              "      <th>1990</th>\n",
              "      <th>1991</th>\n",
              "      <th>1992</th>\n",
              "      <th>1993</th>\n",
              "      <th>1994</th>\n",
              "      <th>1995</th>\n",
              "      <th>...</th>\n",
              "      <th>2011</th>\n",
              "      <th>2012</th>\n",
              "      <th>2013</th>\n",
              "      <th>2014</th>\n",
              "      <th>2015</th>\n",
              "      <th>2016</th>\n",
              "      <th>2017</th>\n",
              "      <th>2018</th>\n",
              "      <th>2019</th>\n",
              "      <th>2020</th>\n",
              "    </tr>\n",
              "  </thead>\n",
              "  <tbody>\n",
              "    <tr>\n",
              "      <th>0</th>\n",
              "      <td>Aruba</td>\n",
              "      <td>ABW</td>\n",
              "      <td>Forest area (sq. km)</td>\n",
              "      <td>AG.LND.FRST.K2</td>\n",
              "      <td>4.2</td>\n",
              "      <td>4.200</td>\n",
              "      <td>4.200</td>\n",
              "      <td>4.200</td>\n",
              "      <td>4.200</td>\n",
              "      <td>4.20</td>\n",
              "      <td>...</td>\n",
              "      <td>4.20</td>\n",
              "      <td>4.20</td>\n",
              "      <td>4.20</td>\n",
              "      <td>4.20</td>\n",
              "      <td>4.2</td>\n",
              "      <td>4.200000e+00</td>\n",
              "      <td>4.2</td>\n",
              "      <td>4.20</td>\n",
              "      <td>4.2</td>\n",
              "      <td>4.2</td>\n",
              "    </tr>\n",
              "    <tr>\n",
              "      <th>1</th>\n",
              "      <td>Africa Eastern and Southern</td>\n",
              "      <td>AFE</td>\n",
              "      <td>Forest area (sq. km)</td>\n",
              "      <td>AG.LND.FRST.K2</td>\n",
              "      <td>4988232.4</td>\n",
              "      <td>4968316.114</td>\n",
              "      <td>4947640.628</td>\n",
              "      <td>4911134.742</td>\n",
              "      <td>4890838.856</td>\n",
              "      <td>4870542.97</td>\n",
              "      <td>...</td>\n",
              "      <td>4765400.98</td>\n",
              "      <td>4734211.36</td>\n",
              "      <td>4703021.74</td>\n",
              "      <td>4671832.12</td>\n",
              "      <td>4640642.5</td>\n",
              "      <td>4.607876e+06</td>\n",
              "      <td>4575901.2</td>\n",
              "      <td>4544314.78</td>\n",
              "      <td>4511676.2</td>\n",
              "      <td>4479395.0</td>\n",
              "    </tr>\n",
              "    <tr>\n",
              "      <th>2</th>\n",
              "      <td>Afghanistan</td>\n",
              "      <td>AFG</td>\n",
              "      <td>Forest area (sq. km)</td>\n",
              "      <td>AG.LND.FRST.K2</td>\n",
              "      <td>12084.4</td>\n",
              "      <td>12084.400</td>\n",
              "      <td>12084.400</td>\n",
              "      <td>12084.400</td>\n",
              "      <td>12084.400</td>\n",
              "      <td>12084.40</td>\n",
              "      <td>...</td>\n",
              "      <td>12084.40</td>\n",
              "      <td>12084.40</td>\n",
              "      <td>12084.40</td>\n",
              "      <td>12084.40</td>\n",
              "      <td>12084.4</td>\n",
              "      <td>1.208440e+04</td>\n",
              "      <td>12084.4</td>\n",
              "      <td>12084.40</td>\n",
              "      <td>12084.4</td>\n",
              "      <td>12084.4</td>\n",
              "    </tr>\n",
              "    <tr>\n",
              "      <th>3</th>\n",
              "      <td>Africa Western and Central</td>\n",
              "      <td>AFW</td>\n",
              "      <td>Forest area (sq. km)</td>\n",
              "      <td>AG.LND.FRST.K2</td>\n",
              "      <td>2060349.0</td>\n",
              "      <td>2049660.284</td>\n",
              "      <td>2038971.568</td>\n",
              "      <td>2028282.852</td>\n",
              "      <td>2017594.136</td>\n",
              "      <td>2006905.42</td>\n",
              "      <td>...</td>\n",
              "      <td>1862169.28</td>\n",
              "      <td>1854212.96</td>\n",
              "      <td>1846256.64</td>\n",
              "      <td>1838300.32</td>\n",
              "      <td>1830344.0</td>\n",
              "      <td>1.822961e+06</td>\n",
              "      <td>1815608.1</td>\n",
              "      <td>1807898.60</td>\n",
              "      <td>1800220.1</td>\n",
              "      <td>1792580.7</td>\n",
              "    </tr>\n",
              "    <tr>\n",
              "      <th>4</th>\n",
              "      <td>Angola</td>\n",
              "      <td>AGO</td>\n",
              "      <td>Forest area (sq. km)</td>\n",
              "      <td>AG.LND.FRST.K2</td>\n",
              "      <td>792627.8</td>\n",
              "      <td>791073.630</td>\n",
              "      <td>789519.460</td>\n",
              "      <td>787965.290</td>\n",
              "      <td>786411.120</td>\n",
              "      <td>784856.95</td>\n",
              "      <td>...</td>\n",
              "      <td>716029.38</td>\n",
              "      <td>710478.76</td>\n",
              "      <td>704928.14</td>\n",
              "      <td>699377.52</td>\n",
              "      <td>693826.9</td>\n",
              "      <td>6.882762e+05</td>\n",
              "      <td>682725.7</td>\n",
              "      <td>677175.10</td>\n",
              "      <td>671624.4</td>\n",
              "      <td>666073.8</td>\n",
              "    </tr>\n",
              "  </tbody>\n",
              "</table>\n",
              "<p>5 rows × 35 columns</p>\n",
              "</div>"
            ],
            "text/plain": [
              "                  Country Name Country Code        Indicator Name  \\\n",
              "0                        Aruba          ABW  Forest area (sq. km)   \n",
              "1  Africa Eastern and Southern          AFE  Forest area (sq. km)   \n",
              "2                  Afghanistan          AFG  Forest area (sq. km)   \n",
              "3   Africa Western and Central          AFW  Forest area (sq. km)   \n",
              "4                       Angola          AGO  Forest area (sq. km)   \n",
              "\n",
              "   Indicator Code       1990         1991         1992         1993  \\\n",
              "0  AG.LND.FRST.K2        4.2        4.200        4.200        4.200   \n",
              "1  AG.LND.FRST.K2  4988232.4  4968316.114  4947640.628  4911134.742   \n",
              "2  AG.LND.FRST.K2    12084.4    12084.400    12084.400    12084.400   \n",
              "3  AG.LND.FRST.K2  2060349.0  2049660.284  2038971.568  2028282.852   \n",
              "4  AG.LND.FRST.K2   792627.8   791073.630   789519.460   787965.290   \n",
              "\n",
              "          1994        1995  ...        2011        2012        2013  \\\n",
              "0        4.200        4.20  ...        4.20        4.20        4.20   \n",
              "1  4890838.856  4870542.97  ...  4765400.98  4734211.36  4703021.74   \n",
              "2    12084.400    12084.40  ...    12084.40    12084.40    12084.40   \n",
              "3  2017594.136  2006905.42  ...  1862169.28  1854212.96  1846256.64   \n",
              "4   786411.120   784856.95  ...   716029.38   710478.76   704928.14   \n",
              "\n",
              "         2014       2015          2016       2017        2018       2019  \\\n",
              "0        4.20        4.2  4.200000e+00        4.2        4.20        4.2   \n",
              "1  4671832.12  4640642.5  4.607876e+06  4575901.2  4544314.78  4511676.2   \n",
              "2    12084.40    12084.4  1.208440e+04    12084.4    12084.40    12084.4   \n",
              "3  1838300.32  1830344.0  1.822961e+06  1815608.1  1807898.60  1800220.1   \n",
              "4   699377.52   693826.9  6.882762e+05   682725.7   677175.10   671624.4   \n",
              "\n",
              "        2020  \n",
              "0        4.2  \n",
              "1  4479395.0  \n",
              "2    12084.4  \n",
              "3  1792580.7  \n",
              "4   666073.8  \n",
              "\n",
              "[5 rows x 35 columns]"
            ]
          },
          "execution_count": 6,
          "metadata": {},
          "output_type": "execute_result"
        }
      ],
      "source": [
        "# Visualize data structure\n",
        "forest_data.head()"
      ]
    },
    {
      "cell_type": "code",
      "execution_count": 7,
      "metadata": {},
      "outputs": [
        {
          "data": {
            "text/html": [
              "<div>\n",
              "<style scoped>\n",
              "    .dataframe tbody tr th:only-of-type {\n",
              "        vertical-align: middle;\n",
              "    }\n",
              "\n",
              "    .dataframe tbody tr th {\n",
              "        vertical-align: top;\n",
              "    }\n",
              "\n",
              "    .dataframe thead th {\n",
              "        text-align: right;\n",
              "    }\n",
              "</style>\n",
              "<table border=\"1\" class=\"dataframe\">\n",
              "  <thead>\n",
              "    <tr style=\"text-align: right;\">\n",
              "      <th></th>\n",
              "      <th>Country Name</th>\n",
              "      <th>Country Code</th>\n",
              "      <th>Indicator Name</th>\n",
              "      <th>Indicator Code</th>\n",
              "      <th>1961</th>\n",
              "      <th>1962</th>\n",
              "      <th>1963</th>\n",
              "      <th>1964</th>\n",
              "      <th>1965</th>\n",
              "      <th>1966</th>\n",
              "      <th>...</th>\n",
              "      <th>2009</th>\n",
              "      <th>2010</th>\n",
              "      <th>2011</th>\n",
              "      <th>2012</th>\n",
              "      <th>2013</th>\n",
              "      <th>2014</th>\n",
              "      <th>2015</th>\n",
              "      <th>2016</th>\n",
              "      <th>2017</th>\n",
              "      <th>2018</th>\n",
              "    </tr>\n",
              "  </thead>\n",
              "  <tbody>\n",
              "    <tr>\n",
              "      <th>0</th>\n",
              "      <td>Aruba</td>\n",
              "      <td>ABW</td>\n",
              "      <td>Surface area (sq. km)</td>\n",
              "      <td>AG.SRF.TOTL.K2</td>\n",
              "      <td>180.0</td>\n",
              "      <td>180.0</td>\n",
              "      <td>180.0</td>\n",
              "      <td>180.0</td>\n",
              "      <td>180.0</td>\n",
              "      <td>180.0</td>\n",
              "      <td>...</td>\n",
              "      <td>1.800000e+02</td>\n",
              "      <td>1.800000e+02</td>\n",
              "      <td>180.00</td>\n",
              "      <td>1.800000e+02</td>\n",
              "      <td>1.800000e+02</td>\n",
              "      <td>1.800000e+02</td>\n",
              "      <td>1.800000e+02</td>\n",
              "      <td>1.800000e+02</td>\n",
              "      <td>180.00</td>\n",
              "      <td>1.800000e+02</td>\n",
              "    </tr>\n",
              "    <tr>\n",
              "      <th>1</th>\n",
              "      <td>Africa Eastern and Southern</td>\n",
              "      <td>AFE</td>\n",
              "      <td>Surface area (sq. km)</td>\n",
              "      <td>AG.SRF.TOTL.K2</td>\n",
              "      <td>12718531.0</td>\n",
              "      <td>12718531.0</td>\n",
              "      <td>12718531.0</td>\n",
              "      <td>12718531.0</td>\n",
              "      <td>12718531.0</td>\n",
              "      <td>12718531.0</td>\n",
              "      <td>...</td>\n",
              "      <td>1.263289e+07</td>\n",
              "      <td>1.263290e+07</td>\n",
              "      <td>15121164.46</td>\n",
              "      <td>1.512116e+07</td>\n",
              "      <td>1.512116e+07</td>\n",
              "      <td>1.512116e+07</td>\n",
              "      <td>1.512116e+07</td>\n",
              "      <td>1.512116e+07</td>\n",
              "      <td>15121155.64</td>\n",
              "      <td>1.512116e+07</td>\n",
              "    </tr>\n",
              "    <tr>\n",
              "      <th>2</th>\n",
              "      <td>Afghanistan</td>\n",
              "      <td>AFG</td>\n",
              "      <td>Surface area (sq. km)</td>\n",
              "      <td>AG.SRF.TOTL.K2</td>\n",
              "      <td>652860.0</td>\n",
              "      <td>652860.0</td>\n",
              "      <td>652860.0</td>\n",
              "      <td>652860.0</td>\n",
              "      <td>652860.0</td>\n",
              "      <td>652860.0</td>\n",
              "      <td>...</td>\n",
              "      <td>6.528600e+05</td>\n",
              "      <td>6.528600e+05</td>\n",
              "      <td>652860.00</td>\n",
              "      <td>6.528600e+05</td>\n",
              "      <td>6.528600e+05</td>\n",
              "      <td>6.528600e+05</td>\n",
              "      <td>6.528600e+05</td>\n",
              "      <td>6.528600e+05</td>\n",
              "      <td>652860.00</td>\n",
              "      <td>6.528600e+05</td>\n",
              "    </tr>\n",
              "    <tr>\n",
              "      <th>3</th>\n",
              "      <td>Africa Western and Central</td>\n",
              "      <td>AFW</td>\n",
              "      <td>Surface area (sq. km)</td>\n",
              "      <td>AG.SRF.TOTL.K2</td>\n",
              "      <td>9166270.0</td>\n",
              "      <td>9166270.0</td>\n",
              "      <td>9166270.0</td>\n",
              "      <td>9166270.0</td>\n",
              "      <td>9166270.0</td>\n",
              "      <td>9166270.0</td>\n",
              "      <td>...</td>\n",
              "      <td>9.166270e+06</td>\n",
              "      <td>9.166270e+06</td>\n",
              "      <td>9166270.00</td>\n",
              "      <td>9.166270e+06</td>\n",
              "      <td>9.166270e+06</td>\n",
              "      <td>9.166270e+06</td>\n",
              "      <td>9.166270e+06</td>\n",
              "      <td>9.166270e+06</td>\n",
              "      <td>9166270.00</td>\n",
              "      <td>9.166270e+06</td>\n",
              "    </tr>\n",
              "    <tr>\n",
              "      <th>4</th>\n",
              "      <td>Angola</td>\n",
              "      <td>AGO</td>\n",
              "      <td>Surface area (sq. km)</td>\n",
              "      <td>AG.SRF.TOTL.K2</td>\n",
              "      <td>1246700.0</td>\n",
              "      <td>1246700.0</td>\n",
              "      <td>1246700.0</td>\n",
              "      <td>1246700.0</td>\n",
              "      <td>1246700.0</td>\n",
              "      <td>1246700.0</td>\n",
              "      <td>...</td>\n",
              "      <td>1.246700e+06</td>\n",
              "      <td>1.246700e+06</td>\n",
              "      <td>1246700.00</td>\n",
              "      <td>1.246700e+06</td>\n",
              "      <td>1.246700e+06</td>\n",
              "      <td>1.246700e+06</td>\n",
              "      <td>1.246700e+06</td>\n",
              "      <td>1.246700e+06</td>\n",
              "      <td>1246700.00</td>\n",
              "      <td>1.246700e+06</td>\n",
              "    </tr>\n",
              "  </tbody>\n",
              "</table>\n",
              "<p>5 rows × 62 columns</p>\n",
              "</div>"
            ],
            "text/plain": [
              "                  Country Name Country Code         Indicator Name  \\\n",
              "0                        Aruba          ABW  Surface area (sq. km)   \n",
              "1  Africa Eastern and Southern          AFE  Surface area (sq. km)   \n",
              "2                  Afghanistan          AFG  Surface area (sq. km)   \n",
              "3   Africa Western and Central          AFW  Surface area (sq. km)   \n",
              "4                       Angola          AGO  Surface area (sq. km)   \n",
              "\n",
              "   Indicator Code        1961        1962        1963        1964        1965  \\\n",
              "0  AG.SRF.TOTL.K2       180.0       180.0       180.0       180.0       180.0   \n",
              "1  AG.SRF.TOTL.K2  12718531.0  12718531.0  12718531.0  12718531.0  12718531.0   \n",
              "2  AG.SRF.TOTL.K2    652860.0    652860.0    652860.0    652860.0    652860.0   \n",
              "3  AG.SRF.TOTL.K2   9166270.0   9166270.0   9166270.0   9166270.0   9166270.0   \n",
              "4  AG.SRF.TOTL.K2   1246700.0   1246700.0   1246700.0   1246700.0   1246700.0   \n",
              "\n",
              "         1966  ...          2009          2010         2011          2012  \\\n",
              "0       180.0  ...  1.800000e+02  1.800000e+02       180.00  1.800000e+02   \n",
              "1  12718531.0  ...  1.263289e+07  1.263290e+07  15121164.46  1.512116e+07   \n",
              "2    652860.0  ...  6.528600e+05  6.528600e+05    652860.00  6.528600e+05   \n",
              "3   9166270.0  ...  9.166270e+06  9.166270e+06   9166270.00  9.166270e+06   \n",
              "4   1246700.0  ...  1.246700e+06  1.246700e+06   1246700.00  1.246700e+06   \n",
              "\n",
              "           2013          2014          2015          2016         2017  \\\n",
              "0  1.800000e+02  1.800000e+02  1.800000e+02  1.800000e+02       180.00   \n",
              "1  1.512116e+07  1.512116e+07  1.512116e+07  1.512116e+07  15121155.64   \n",
              "2  6.528600e+05  6.528600e+05  6.528600e+05  6.528600e+05    652860.00   \n",
              "3  9.166270e+06  9.166270e+06  9.166270e+06  9.166270e+06   9166270.00   \n",
              "4  1.246700e+06  1.246700e+06  1.246700e+06  1.246700e+06   1246700.00   \n",
              "\n",
              "           2018  \n",
              "0  1.800000e+02  \n",
              "1  1.512116e+07  \n",
              "2  6.528600e+05  \n",
              "3  9.166270e+06  \n",
              "4  1.246700e+06  \n",
              "\n",
              "[5 rows x 62 columns]"
            ]
          },
          "execution_count": 7,
          "metadata": {},
          "output_type": "execute_result"
        }
      ],
      "source": [
        "# Visualize data structure\n",
        "surface_data.head()"
      ]
    },
    {
      "cell_type": "code",
      "execution_count": 8,
      "metadata": {},
      "outputs": [
        {
          "data": {
            "text/plain": [
              "array(['Country Name', 'Country Code', 'Indicator Name', 'Indicator Code',\n",
              "       '1990', '1991', '1992', '1993', '1994', '1995', '1996', '1997',\n",
              "       '1998', '1999', '2000', '2001', '2002', '2003', '2004', '2005',\n",
              "       '2006', '2007', '2008', '2009', '2010', '2011', '2012', '2013',\n",
              "       '2014', '2015', '2016', '2017', '2018', '2019', '2020'],\n",
              "      dtype=object)"
            ]
          },
          "execution_count": 8,
          "metadata": {},
          "output_type": "execute_result"
        }
      ],
      "source": [
        "forest_data.columns.values"
      ]
    },
    {
      "cell_type": "code",
      "execution_count": 9,
      "metadata": {},
      "outputs": [
        {
          "data": {
            "text/plain": [
              "array(['Country Name', 'Country Code', 'Indicator Name', 'Indicator Code',\n",
              "       '1961', '1962', '1963', '1964', '1965', '1966', '1967', '1968',\n",
              "       '1969', '1970', '1971', '1972', '1973', '1974', '1975', '1976',\n",
              "       '1977', '1978', '1979', '1980', '1981', '1982', '1983', '1984',\n",
              "       '1985', '1986', '1987', '1988', '1989', '1990', '1991', '1992',\n",
              "       '1993', '1994', '1995', '1996', '1997', '1998', '1999', '2000',\n",
              "       '2001', '2002', '2003', '2004', '2005', '2006', '2007', '2008',\n",
              "       '2009', '2010', '2011', '2012', '2013', '2014', '2015', '2016',\n",
              "       '2017', '2018'], dtype=object)"
            ]
          },
          "execution_count": 9,
          "metadata": {},
          "output_type": "execute_result"
        }
      ],
      "source": [
        "surface_data.columns.values"
      ]
    },
    {
      "cell_type": "code",
      "execution_count": 10,
      "metadata": {},
      "outputs": [],
      "source": [
        "drop_columns = ['Indicator Name', 'Indicator Code']\n",
        "surface = surface_data.drop(columns=[col for col in surface_data if (col not in forest_data.columns.values) or (col in drop_columns)])\n",
        "forest = forest_data.drop(columns=[col for col in forest_data if (col not in surface_data.columns.values) or (col in drop_columns)])"
      ]
    },
    {
      "cell_type": "code",
      "execution_count": 11,
      "metadata": {},
      "outputs": [
        {
          "data": {
            "text/plain": [
              "array(['Country Name', 'Country Code', '1990', '1991', '1992', '1993',\n",
              "       '1994', '1995', '1996', '1997', '1998', '1999', '2000', '2001',\n",
              "       '2002', '2003', '2004', '2005', '2006', '2007', '2008', '2009',\n",
              "       '2010', '2011', '2012', '2013', '2014', '2015', '2016', '2017',\n",
              "       '2018'], dtype=object)"
            ]
          },
          "execution_count": 11,
          "metadata": {},
          "output_type": "execute_result"
        }
      ],
      "source": [
        "forest.columns.values"
      ]
    },
    {
      "cell_type": "code",
      "execution_count": 12,
      "metadata": {},
      "outputs": [
        {
          "data": {
            "text/plain": [
              "array(['Country Name', 'Country Code', '1990', '1991', '1992', '1993',\n",
              "       '1994', '1995', '1996', '1997', '1998', '1999', '2000', '2001',\n",
              "       '2002', '2003', '2004', '2005', '2006', '2007', '2008', '2009',\n",
              "       '2010', '2011', '2012', '2013', '2014', '2015', '2016', '2017',\n",
              "       '2018'], dtype=object)"
            ]
          },
          "execution_count": 12,
          "metadata": {},
          "output_type": "execute_result"
        }
      ],
      "source": [
        "surface.columns.values"
      ]
    },
    {
      "cell_type": "code",
      "execution_count": 13,
      "metadata": {},
      "outputs": [],
      "source": [
        "data = forest.combine(surface, lambda x, y: x / y if x.dtype != object and y.dtype != object else x)"
      ]
    },
    {
      "cell_type": "code",
      "execution_count": 14,
      "metadata": {},
      "outputs": [
        {
          "data": {
            "text/html": [
              "<div>\n",
              "<style scoped>\n",
              "    .dataframe tbody tr th:only-of-type {\n",
              "        vertical-align: middle;\n",
              "    }\n",
              "\n",
              "    .dataframe tbody tr th {\n",
              "        vertical-align: top;\n",
              "    }\n",
              "\n",
              "    .dataframe thead th {\n",
              "        text-align: right;\n",
              "    }\n",
              "</style>\n",
              "<table border=\"1\" class=\"dataframe\">\n",
              "  <thead>\n",
              "    <tr style=\"text-align: right;\">\n",
              "      <th></th>\n",
              "      <th>Country Name</th>\n",
              "      <th>Country Code</th>\n",
              "      <th>1990</th>\n",
              "      <th>1991</th>\n",
              "      <th>1992</th>\n",
              "      <th>1993</th>\n",
              "      <th>1994</th>\n",
              "      <th>1995</th>\n",
              "      <th>1996</th>\n",
              "      <th>1997</th>\n",
              "      <th>...</th>\n",
              "      <th>2009</th>\n",
              "      <th>2010</th>\n",
              "      <th>2011</th>\n",
              "      <th>2012</th>\n",
              "      <th>2013</th>\n",
              "      <th>2014</th>\n",
              "      <th>2015</th>\n",
              "      <th>2016</th>\n",
              "      <th>2017</th>\n",
              "      <th>2018</th>\n",
              "    </tr>\n",
              "  </thead>\n",
              "  <tbody>\n",
              "    <tr>\n",
              "      <th>0</th>\n",
              "      <td>Aruba</td>\n",
              "      <td>ABW</td>\n",
              "      <td>0.023333</td>\n",
              "      <td>0.023333</td>\n",
              "      <td>0.023333</td>\n",
              "      <td>0.023333</td>\n",
              "      <td>0.023333</td>\n",
              "      <td>0.023333</td>\n",
              "      <td>0.023333</td>\n",
              "      <td>0.023333</td>\n",
              "      <td>...</td>\n",
              "      <td>0.023333</td>\n",
              "      <td>0.023333</td>\n",
              "      <td>0.023333</td>\n",
              "      <td>0.023333</td>\n",
              "      <td>0.023333</td>\n",
              "      <td>0.023333</td>\n",
              "      <td>0.023333</td>\n",
              "      <td>0.023333</td>\n",
              "      <td>0.023333</td>\n",
              "      <td>0.023333</td>\n",
              "    </tr>\n",
              "    <tr>\n",
              "      <th>1</th>\n",
              "      <td>Africa Eastern and Southern</td>\n",
              "      <td>AFE</td>\n",
              "      <td>0.392202</td>\n",
              "      <td>0.390636</td>\n",
              "      <td>0.389010</td>\n",
              "      <td>0.389744</td>\n",
              "      <td>0.388133</td>\n",
              "      <td>0.386522</td>\n",
              "      <td>0.384912</td>\n",
              "      <td>0.383301</td>\n",
              "      <td>...</td>\n",
              "      <td>0.360067</td>\n",
              "      <td>0.379691</td>\n",
              "      <td>0.315148</td>\n",
              "      <td>0.313085</td>\n",
              "      <td>0.311023</td>\n",
              "      <td>0.308960</td>\n",
              "      <td>0.306897</td>\n",
              "      <td>0.304730</td>\n",
              "      <td>0.302616</td>\n",
              "      <td>0.300527</td>\n",
              "    </tr>\n",
              "    <tr>\n",
              "      <th>2</th>\n",
              "      <td>Afghanistan</td>\n",
              "      <td>AFG</td>\n",
              "      <td>0.018510</td>\n",
              "      <td>0.018510</td>\n",
              "      <td>0.018510</td>\n",
              "      <td>0.018510</td>\n",
              "      <td>0.018510</td>\n",
              "      <td>0.018510</td>\n",
              "      <td>0.018510</td>\n",
              "      <td>0.018510</td>\n",
              "      <td>...</td>\n",
              "      <td>0.018510</td>\n",
              "      <td>0.018510</td>\n",
              "      <td>0.018510</td>\n",
              "      <td>0.018510</td>\n",
              "      <td>0.018510</td>\n",
              "      <td>0.018510</td>\n",
              "      <td>0.018510</td>\n",
              "      <td>0.018510</td>\n",
              "      <td>0.018510</td>\n",
              "      <td>0.018510</td>\n",
              "    </tr>\n",
              "    <tr>\n",
              "      <th>3</th>\n",
              "      <td>Africa Western and Central</td>\n",
              "      <td>AFW</td>\n",
              "      <td>0.224775</td>\n",
              "      <td>0.223609</td>\n",
              "      <td>0.222443</td>\n",
              "      <td>0.221277</td>\n",
              "      <td>0.220111</td>\n",
              "      <td>0.218945</td>\n",
              "      <td>0.217779</td>\n",
              "      <td>0.216612</td>\n",
              "      <td>...</td>\n",
              "      <td>0.204932</td>\n",
              "      <td>0.204023</td>\n",
              "      <td>0.203155</td>\n",
              "      <td>0.202287</td>\n",
              "      <td>0.201419</td>\n",
              "      <td>0.200551</td>\n",
              "      <td>0.199683</td>\n",
              "      <td>0.198877</td>\n",
              "      <td>0.198075</td>\n",
              "      <td>0.197234</td>\n",
              "    </tr>\n",
              "    <tr>\n",
              "      <th>4</th>\n",
              "      <td>Angola</td>\n",
              "      <td>AGO</td>\n",
              "      <td>0.635781</td>\n",
              "      <td>0.634534</td>\n",
              "      <td>0.633287</td>\n",
              "      <td>0.632041</td>\n",
              "      <td>0.630794</td>\n",
              "      <td>0.629548</td>\n",
              "      <td>0.628301</td>\n",
              "      <td>0.627054</td>\n",
              "      <td>...</td>\n",
              "      <td>0.583244</td>\n",
              "      <td>0.578792</td>\n",
              "      <td>0.574340</td>\n",
              "      <td>0.569888</td>\n",
              "      <td>0.565435</td>\n",
              "      <td>0.560983</td>\n",
              "      <td>0.556531</td>\n",
              "      <td>0.552078</td>\n",
              "      <td>0.547626</td>\n",
              "      <td>0.543174</td>\n",
              "    </tr>\n",
              "  </tbody>\n",
              "</table>\n",
              "<p>5 rows × 31 columns</p>\n",
              "</div>"
            ],
            "text/plain": [
              "                  Country Name Country Code      1990      1991      1992  \\\n",
              "0                        Aruba          ABW  0.023333  0.023333  0.023333   \n",
              "1  Africa Eastern and Southern          AFE  0.392202  0.390636  0.389010   \n",
              "2                  Afghanistan          AFG  0.018510  0.018510  0.018510   \n",
              "3   Africa Western and Central          AFW  0.224775  0.223609  0.222443   \n",
              "4                       Angola          AGO  0.635781  0.634534  0.633287   \n",
              "\n",
              "       1993      1994      1995      1996      1997  ...      2009      2010  \\\n",
              "0  0.023333  0.023333  0.023333  0.023333  0.023333  ...  0.023333  0.023333   \n",
              "1  0.389744  0.388133  0.386522  0.384912  0.383301  ...  0.360067  0.379691   \n",
              "2  0.018510  0.018510  0.018510  0.018510  0.018510  ...  0.018510  0.018510   \n",
              "3  0.221277  0.220111  0.218945  0.217779  0.216612  ...  0.204932  0.204023   \n",
              "4  0.632041  0.630794  0.629548  0.628301  0.627054  ...  0.583244  0.578792   \n",
              "\n",
              "       2011      2012      2013      2014      2015      2016      2017  \\\n",
              "0  0.023333  0.023333  0.023333  0.023333  0.023333  0.023333  0.023333   \n",
              "1  0.315148  0.313085  0.311023  0.308960  0.306897  0.304730  0.302616   \n",
              "2  0.018510  0.018510  0.018510  0.018510  0.018510  0.018510  0.018510   \n",
              "3  0.203155  0.202287  0.201419  0.200551  0.199683  0.198877  0.198075   \n",
              "4  0.574340  0.569888  0.565435  0.560983  0.556531  0.552078  0.547626   \n",
              "\n",
              "       2018  \n",
              "0  0.023333  \n",
              "1  0.300527  \n",
              "2  0.018510  \n",
              "3  0.197234  \n",
              "4  0.543174  \n",
              "\n",
              "[5 rows x 31 columns]"
            ]
          },
          "execution_count": 14,
          "metadata": {},
          "output_type": "execute_result"
        }
      ],
      "source": [
        "data.head()"
      ]
    },
    {
      "cell_type": "code",
      "execution_count": 15,
      "metadata": {},
      "outputs": [],
      "source": [
        "columns = data.columns.values.astype('U')\n",
        "id_columns = columns[np.invert(np.char.isdigit(columns))]\n",
        "value_columns = columns[np.char.isdigit(columns)]"
      ]
    },
    {
      "cell_type": "code",
      "execution_count": 16,
      "metadata": {},
      "outputs": [],
      "source": [
        "columns = data.columns.values.astype('U')\n",
        "id_columns = columns[np.invert(np.char.isdigit(columns))]\n",
        "value_columns = columns[np.char.isdigit(columns)]\n",
        "data2 = pd.melt(data, id_vars=id_columns, value_vars=value_columns, var_name='Year', value_name='Ratio')"
      ]
    },
    {
      "cell_type": "code",
      "execution_count": 17,
      "metadata": {},
      "outputs": [
        {
          "data": {
            "text/html": [
              "<div>\n",
              "<style scoped>\n",
              "    .dataframe tbody tr th:only-of-type {\n",
              "        vertical-align: middle;\n",
              "    }\n",
              "\n",
              "    .dataframe tbody tr th {\n",
              "        vertical-align: top;\n",
              "    }\n",
              "\n",
              "    .dataframe thead th {\n",
              "        text-align: right;\n",
              "    }\n",
              "</style>\n",
              "<table border=\"1\" class=\"dataframe\">\n",
              "  <thead>\n",
              "    <tr style=\"text-align: right;\">\n",
              "      <th></th>\n",
              "      <th>Country Name</th>\n",
              "      <th>Country Code</th>\n",
              "      <th>Year</th>\n",
              "      <th>Ratio</th>\n",
              "    </tr>\n",
              "  </thead>\n",
              "  <tbody>\n",
              "    <tr>\n",
              "      <th>0</th>\n",
              "      <td>Aruba</td>\n",
              "      <td>ABW</td>\n",
              "      <td>1990</td>\n",
              "      <td>0.023333</td>\n",
              "    </tr>\n",
              "    <tr>\n",
              "      <th>1</th>\n",
              "      <td>Africa Eastern and Southern</td>\n",
              "      <td>AFE</td>\n",
              "      <td>1990</td>\n",
              "      <td>0.392202</td>\n",
              "    </tr>\n",
              "    <tr>\n",
              "      <th>2</th>\n",
              "      <td>Afghanistan</td>\n",
              "      <td>AFG</td>\n",
              "      <td>1990</td>\n",
              "      <td>0.018510</td>\n",
              "    </tr>\n",
              "    <tr>\n",
              "      <th>3</th>\n",
              "      <td>Africa Western and Central</td>\n",
              "      <td>AFW</td>\n",
              "      <td>1990</td>\n",
              "      <td>0.224775</td>\n",
              "    </tr>\n",
              "    <tr>\n",
              "      <th>4</th>\n",
              "      <td>Angola</td>\n",
              "      <td>AGO</td>\n",
              "      <td>1990</td>\n",
              "      <td>0.635781</td>\n",
              "    </tr>\n",
              "  </tbody>\n",
              "</table>\n",
              "</div>"
            ],
            "text/plain": [
              "                  Country Name Country Code  Year     Ratio\n",
              "0                        Aruba          ABW  1990  0.023333\n",
              "1  Africa Eastern and Southern          AFE  1990  0.392202\n",
              "2                  Afghanistan          AFG  1990  0.018510\n",
              "3   Africa Western and Central          AFW  1990  0.224775\n",
              "4                       Angola          AGO  1990  0.635781"
            ]
          },
          "execution_count": 17,
          "metadata": {},
          "output_type": "execute_result"
        }
      ],
      "source": [
        "data2.head()"
      ]
    },
    {
      "cell_type": "markdown",
      "metadata": {},
      "source": [
        "### 3. Como se comparam os vários países do mundo a nível de incêndios?"
      ]
    },
    {
      "cell_type": "code",
      "execution_count": 19,
      "metadata": {},
      "outputs": [
        {
          "data": {
            "application/javascript": "/* Put everything inside the global mpl namespace */\n/* global mpl */\nwindow.mpl = {};\n\nmpl.get_websocket_type = function () {\n    if (typeof WebSocket !== 'undefined') {\n        return WebSocket;\n    } else if (typeof MozWebSocket !== 'undefined') {\n        return MozWebSocket;\n    } else {\n        alert(\n            'Your browser does not have WebSocket support. ' +\n                'Please try Chrome, Safari or Firefox ≥ 6. ' +\n                'Firefox 4 and 5 are also supported but you ' +\n                'have to enable WebSockets in about:config.'\n        );\n    }\n};\n\nmpl.figure = function (figure_id, websocket, ondownload, parent_element) {\n    this.id = figure_id;\n\n    this.ws = websocket;\n\n    this.supports_binary = this.ws.binaryType !== undefined;\n\n    if (!this.supports_binary) {\n        var warnings = document.getElementById('mpl-warnings');\n        if (warnings) {\n            warnings.style.display = 'block';\n            warnings.textContent =\n                'This browser does not support binary websocket messages. ' +\n                'Performance may be slow.';\n        }\n    }\n\n    this.imageObj = new Image();\n\n    this.context = undefined;\n    this.message = undefined;\n    this.canvas = undefined;\n    this.rubberband_canvas = undefined;\n    this.rubberband_context = undefined;\n    this.format_dropdown = undefined;\n\n    this.image_mode = 'full';\n\n    this.root = document.createElement('div');\n    this.root.setAttribute('style', 'display: inline-block');\n    this._root_extra_style(this.root);\n\n    parent_element.appendChild(this.root);\n\n    this._init_header(this);\n    this._init_canvas(this);\n    this._init_toolbar(this);\n\n    var fig = this;\n\n    this.waiting = false;\n\n    this.ws.onopen = function () {\n        fig.send_message('supports_binary', { value: fig.supports_binary });\n        fig.send_message('send_image_mode', {});\n        if (fig.ratio !== 1) {\n            fig.send_message('set_device_pixel_ratio', {\n                device_pixel_ratio: fig.ratio,\n            });\n        }\n        fig.send_message('refresh', {});\n    };\n\n    this.imageObj.onload = function () {\n        if (fig.image_mode === 'full') {\n            // Full images could contain transparency (where diff images\n            // almost always do), so we need to clear the canvas so that\n            // there is no ghosting.\n            fig.context.clearRect(0, 0, fig.canvas.width, fig.canvas.height);\n        }\n        fig.context.drawImage(fig.imageObj, 0, 0);\n    };\n\n    this.imageObj.onunload = function () {\n        fig.ws.close();\n    };\n\n    this.ws.onmessage = this._make_on_message_function(this);\n\n    this.ondownload = ondownload;\n};\n\nmpl.figure.prototype._init_header = function () {\n    var titlebar = document.createElement('div');\n    titlebar.classList =\n        'ui-dialog-titlebar ui-widget-header ui-corner-all ui-helper-clearfix';\n    var titletext = document.createElement('div');\n    titletext.classList = 'ui-dialog-title';\n    titletext.setAttribute(\n        'style',\n        'width: 100%; text-align: center; padding: 3px;'\n    );\n    titlebar.appendChild(titletext);\n    this.root.appendChild(titlebar);\n    this.header = titletext;\n};\n\nmpl.figure.prototype._canvas_extra_style = function (_canvas_div) {};\n\nmpl.figure.prototype._root_extra_style = function (_canvas_div) {};\n\nmpl.figure.prototype._init_canvas = function () {\n    var fig = this;\n\n    var canvas_div = (this.canvas_div = document.createElement('div'));\n    canvas_div.setAttribute(\n        'style',\n        'border: 1px solid #ddd;' +\n            'box-sizing: content-box;' +\n            'clear: both;' +\n            'min-height: 1px;' +\n            'min-width: 1px;' +\n            'outline: 0;' +\n            'overflow: hidden;' +\n            'position: relative;' +\n            'resize: both;'\n    );\n\n    function on_keyboard_event_closure(name) {\n        return function (event) {\n            return fig.key_event(event, name);\n        };\n    }\n\n    canvas_div.addEventListener(\n        'keydown',\n        on_keyboard_event_closure('key_press')\n    );\n    canvas_div.addEventListener(\n        'keyup',\n        on_keyboard_event_closure('key_release')\n    );\n\n    this._canvas_extra_style(canvas_div);\n    this.root.appendChild(canvas_div);\n\n    var canvas = (this.canvas = document.createElement('canvas'));\n    canvas.classList.add('mpl-canvas');\n    canvas.setAttribute('style', 'box-sizing: content-box;');\n\n    this.context = canvas.getContext('2d');\n\n    var backingStore =\n        this.context.backingStorePixelRatio ||\n        this.context.webkitBackingStorePixelRatio ||\n        this.context.mozBackingStorePixelRatio ||\n        this.context.msBackingStorePixelRatio ||\n        this.context.oBackingStorePixelRatio ||\n        this.context.backingStorePixelRatio ||\n        1;\n\n    this.ratio = (window.devicePixelRatio || 1) / backingStore;\n\n    var rubberband_canvas = (this.rubberband_canvas = document.createElement(\n        'canvas'\n    ));\n    rubberband_canvas.setAttribute(\n        'style',\n        'box-sizing: content-box; position: absolute; left: 0; top: 0; z-index: 1;'\n    );\n\n    // Apply a ponyfill if ResizeObserver is not implemented by browser.\n    if (this.ResizeObserver === undefined) {\n        if (window.ResizeObserver !== undefined) {\n            this.ResizeObserver = window.ResizeObserver;\n        } else {\n            var obs = _JSXTOOLS_RESIZE_OBSERVER({});\n            this.ResizeObserver = obs.ResizeObserver;\n        }\n    }\n\n    this.resizeObserverInstance = new this.ResizeObserver(function (entries) {\n        var nentries = entries.length;\n        for (var i = 0; i < nentries; i++) {\n            var entry = entries[i];\n            var width, height;\n            if (entry.contentBoxSize) {\n                if (entry.contentBoxSize instanceof Array) {\n                    // Chrome 84 implements new version of spec.\n                    width = entry.contentBoxSize[0].inlineSize;\n                    height = entry.contentBoxSize[0].blockSize;\n                } else {\n                    // Firefox implements old version of spec.\n                    width = entry.contentBoxSize.inlineSize;\n                    height = entry.contentBoxSize.blockSize;\n                }\n            } else {\n                // Chrome <84 implements even older version of spec.\n                width = entry.contentRect.width;\n                height = entry.contentRect.height;\n            }\n\n            // Keep the size of the canvas and rubber band canvas in sync with\n            // the canvas container.\n            if (entry.devicePixelContentBoxSize) {\n                // Chrome 84 implements new version of spec.\n                canvas.setAttribute(\n                    'width',\n                    entry.devicePixelContentBoxSize[0].inlineSize\n                );\n                canvas.setAttribute(\n                    'height',\n                    entry.devicePixelContentBoxSize[0].blockSize\n                );\n            } else {\n                canvas.setAttribute('width', width * fig.ratio);\n                canvas.setAttribute('height', height * fig.ratio);\n            }\n            canvas.setAttribute(\n                'style',\n                'width: ' + width + 'px; height: ' + height + 'px;'\n            );\n\n            rubberband_canvas.setAttribute('width', width);\n            rubberband_canvas.setAttribute('height', height);\n\n            // And update the size in Python. We ignore the initial 0/0 size\n            // that occurs as the element is placed into the DOM, which should\n            // otherwise not happen due to the minimum size styling.\n            if (fig.ws.readyState == 1 && width != 0 && height != 0) {\n                fig.request_resize(width, height);\n            }\n        }\n    });\n    this.resizeObserverInstance.observe(canvas_div);\n\n    function on_mouse_event_closure(name) {\n        return function (event) {\n            return fig.mouse_event(event, name);\n        };\n    }\n\n    rubberband_canvas.addEventListener(\n        'mousedown',\n        on_mouse_event_closure('button_press')\n    );\n    rubberband_canvas.addEventListener(\n        'mouseup',\n        on_mouse_event_closure('button_release')\n    );\n    rubberband_canvas.addEventListener(\n        'dblclick',\n        on_mouse_event_closure('dblclick')\n    );\n    // Throttle sequential mouse events to 1 every 20ms.\n    rubberband_canvas.addEventListener(\n        'mousemove',\n        on_mouse_event_closure('motion_notify')\n    );\n\n    rubberband_canvas.addEventListener(\n        'mouseenter',\n        on_mouse_event_closure('figure_enter')\n    );\n    rubberband_canvas.addEventListener(\n        'mouseleave',\n        on_mouse_event_closure('figure_leave')\n    );\n\n    canvas_div.addEventListener('wheel', function (event) {\n        if (event.deltaY < 0) {\n            event.step = 1;\n        } else {\n            event.step = -1;\n        }\n        on_mouse_event_closure('scroll')(event);\n    });\n\n    canvas_div.appendChild(canvas);\n    canvas_div.appendChild(rubberband_canvas);\n\n    this.rubberband_context = rubberband_canvas.getContext('2d');\n    this.rubberband_context.strokeStyle = '#000000';\n\n    this._resize_canvas = function (width, height, forward) {\n        if (forward) {\n            canvas_div.style.width = width + 'px';\n            canvas_div.style.height = height + 'px';\n        }\n    };\n\n    // Disable right mouse context menu.\n    this.rubberband_canvas.addEventListener('contextmenu', function (_e) {\n        event.preventDefault();\n        return false;\n    });\n\n    function set_focus() {\n        canvas.focus();\n        canvas_div.focus();\n    }\n\n    window.setTimeout(set_focus, 100);\n};\n\nmpl.figure.prototype._init_toolbar = function () {\n    var fig = this;\n\n    var toolbar = document.createElement('div');\n    toolbar.classList = 'mpl-toolbar';\n    this.root.appendChild(toolbar);\n\n    function on_click_closure(name) {\n        return function (_event) {\n            return fig.toolbar_button_onclick(name);\n        };\n    }\n\n    function on_mouseover_closure(tooltip) {\n        return function (event) {\n            if (!event.currentTarget.disabled) {\n                return fig.toolbar_button_onmouseover(tooltip);\n            }\n        };\n    }\n\n    fig.buttons = {};\n    var buttonGroup = document.createElement('div');\n    buttonGroup.classList = 'mpl-button-group';\n    for (var toolbar_ind in mpl.toolbar_items) {\n        var name = mpl.toolbar_items[toolbar_ind][0];\n        var tooltip = mpl.toolbar_items[toolbar_ind][1];\n        var image = mpl.toolbar_items[toolbar_ind][2];\n        var method_name = mpl.toolbar_items[toolbar_ind][3];\n\n        if (!name) {\n            /* Instead of a spacer, we start a new button group. */\n            if (buttonGroup.hasChildNodes()) {\n                toolbar.appendChild(buttonGroup);\n            }\n            buttonGroup = document.createElement('div');\n            buttonGroup.classList = 'mpl-button-group';\n            continue;\n        }\n\n        var button = (fig.buttons[name] = document.createElement('button'));\n        button.classList = 'mpl-widget';\n        button.setAttribute('role', 'button');\n        button.setAttribute('aria-disabled', 'false');\n        button.addEventListener('click', on_click_closure(method_name));\n        button.addEventListener('mouseover', on_mouseover_closure(tooltip));\n\n        var icon_img = document.createElement('img');\n        icon_img.src = '_images/' + image + '.png';\n        icon_img.srcset = '_images/' + image + '_large.png 2x';\n        icon_img.alt = tooltip;\n        button.appendChild(icon_img);\n\n        buttonGroup.appendChild(button);\n    }\n\n    if (buttonGroup.hasChildNodes()) {\n        toolbar.appendChild(buttonGroup);\n    }\n\n    var fmt_picker = document.createElement('select');\n    fmt_picker.classList = 'mpl-widget';\n    toolbar.appendChild(fmt_picker);\n    this.format_dropdown = fmt_picker;\n\n    for (var ind in mpl.extensions) {\n        var fmt = mpl.extensions[ind];\n        var option = document.createElement('option');\n        option.selected = fmt === mpl.default_extension;\n        option.innerHTML = fmt;\n        fmt_picker.appendChild(option);\n    }\n\n    var status_bar = document.createElement('span');\n    status_bar.classList = 'mpl-message';\n    toolbar.appendChild(status_bar);\n    this.message = status_bar;\n};\n\nmpl.figure.prototype.request_resize = function (x_pixels, y_pixels) {\n    // Request matplotlib to resize the figure. Matplotlib will then trigger a resize in the client,\n    // which will in turn request a refresh of the image.\n    this.send_message('resize', { width: x_pixels, height: y_pixels });\n};\n\nmpl.figure.prototype.send_message = function (type, properties) {\n    properties['type'] = type;\n    properties['figure_id'] = this.id;\n    this.ws.send(JSON.stringify(properties));\n};\n\nmpl.figure.prototype.send_draw_message = function () {\n    if (!this.waiting) {\n        this.waiting = true;\n        this.ws.send(JSON.stringify({ type: 'draw', figure_id: this.id }));\n    }\n};\n\nmpl.figure.prototype.handle_save = function (fig, _msg) {\n    var format_dropdown = fig.format_dropdown;\n    var format = format_dropdown.options[format_dropdown.selectedIndex].value;\n    fig.ondownload(fig, format);\n};\n\nmpl.figure.prototype.handle_resize = function (fig, msg) {\n    var size = msg['size'];\n    if (size[0] !== fig.canvas.width || size[1] !== fig.canvas.height) {\n        fig._resize_canvas(size[0], size[1], msg['forward']);\n        fig.send_message('refresh', {});\n    }\n};\n\nmpl.figure.prototype.handle_rubberband = function (fig, msg) {\n    var x0 = msg['x0'] / fig.ratio;\n    var y0 = (fig.canvas.height - msg['y0']) / fig.ratio;\n    var x1 = msg['x1'] / fig.ratio;\n    var y1 = (fig.canvas.height - msg['y1']) / fig.ratio;\n    x0 = Math.floor(x0) + 0.5;\n    y0 = Math.floor(y0) + 0.5;\n    x1 = Math.floor(x1) + 0.5;\n    y1 = Math.floor(y1) + 0.5;\n    var min_x = Math.min(x0, x1);\n    var min_y = Math.min(y0, y1);\n    var width = Math.abs(x1 - x0);\n    var height = Math.abs(y1 - y0);\n\n    fig.rubberband_context.clearRect(\n        0,\n        0,\n        fig.canvas.width / fig.ratio,\n        fig.canvas.height / fig.ratio\n    );\n\n    fig.rubberband_context.strokeRect(min_x, min_y, width, height);\n};\n\nmpl.figure.prototype.handle_figure_label = function (fig, msg) {\n    // Updates the figure title.\n    fig.header.textContent = msg['label'];\n};\n\nmpl.figure.prototype.handle_cursor = function (fig, msg) {\n    fig.rubberband_canvas.style.cursor = msg['cursor'];\n};\n\nmpl.figure.prototype.handle_message = function (fig, msg) {\n    fig.message.textContent = msg['message'];\n};\n\nmpl.figure.prototype.handle_draw = function (fig, _msg) {\n    // Request the server to send over a new figure.\n    fig.send_draw_message();\n};\n\nmpl.figure.prototype.handle_image_mode = function (fig, msg) {\n    fig.image_mode = msg['mode'];\n};\n\nmpl.figure.prototype.handle_history_buttons = function (fig, msg) {\n    for (var key in msg) {\n        if (!(key in fig.buttons)) {\n            continue;\n        }\n        fig.buttons[key].disabled = !msg[key];\n        fig.buttons[key].setAttribute('aria-disabled', !msg[key]);\n    }\n};\n\nmpl.figure.prototype.handle_navigate_mode = function (fig, msg) {\n    if (msg['mode'] === 'PAN') {\n        fig.buttons['Pan'].classList.add('active');\n        fig.buttons['Zoom'].classList.remove('active');\n    } else if (msg['mode'] === 'ZOOM') {\n        fig.buttons['Pan'].classList.remove('active');\n        fig.buttons['Zoom'].classList.add('active');\n    } else {\n        fig.buttons['Pan'].classList.remove('active');\n        fig.buttons['Zoom'].classList.remove('active');\n    }\n};\n\nmpl.figure.prototype.updated_canvas_event = function () {\n    // Called whenever the canvas gets updated.\n    this.send_message('ack', {});\n};\n\n// A function to construct a web socket function for onmessage handling.\n// Called in the figure constructor.\nmpl.figure.prototype._make_on_message_function = function (fig) {\n    return function socket_on_message(evt) {\n        if (evt.data instanceof Blob) {\n            var img = evt.data;\n            if (img.type !== 'image/png') {\n                /* FIXME: We get \"Resource interpreted as Image but\n                 * transferred with MIME type text/plain:\" errors on\n                 * Chrome.  But how to set the MIME type?  It doesn't seem\n                 * to be part of the websocket stream */\n                img.type = 'image/png';\n            }\n\n            /* Free the memory for the previous frames */\n            if (fig.imageObj.src) {\n                (window.URL || window.webkitURL).revokeObjectURL(\n                    fig.imageObj.src\n                );\n            }\n\n            fig.imageObj.src = (window.URL || window.webkitURL).createObjectURL(\n                img\n            );\n            fig.updated_canvas_event();\n            fig.waiting = false;\n            return;\n        } else if (\n            typeof evt.data === 'string' &&\n            evt.data.slice(0, 21) === 'data:image/png;base64'\n        ) {\n            fig.imageObj.src = evt.data;\n            fig.updated_canvas_event();\n            fig.waiting = false;\n            return;\n        }\n\n        var msg = JSON.parse(evt.data);\n        var msg_type = msg['type'];\n\n        // Call the  \"handle_{type}\" callback, which takes\n        // the figure and JSON message as its only arguments.\n        try {\n            var callback = fig['handle_' + msg_type];\n        } catch (e) {\n            console.log(\n                \"No handler for the '\" + msg_type + \"' message type: \",\n                msg\n            );\n            return;\n        }\n\n        if (callback) {\n            try {\n                // console.log(\"Handling '\" + msg_type + \"' message: \", msg);\n                callback(fig, msg);\n            } catch (e) {\n                console.log(\n                    \"Exception inside the 'handler_\" + msg_type + \"' callback:\",\n                    e,\n                    e.stack,\n                    msg\n                );\n            }\n        }\n    };\n};\n\n// from https://stackoverflow.com/questions/1114465/getting-mouse-location-in-canvas\nmpl.findpos = function (e) {\n    //this section is from http://www.quirksmode.org/js/events_properties.html\n    var targ;\n    if (!e) {\n        e = window.event;\n    }\n    if (e.target) {\n        targ = e.target;\n    } else if (e.srcElement) {\n        targ = e.srcElement;\n    }\n    if (targ.nodeType === 3) {\n        // defeat Safari bug\n        targ = targ.parentNode;\n    }\n\n    // pageX,Y are the mouse positions relative to the document\n    var boundingRect = targ.getBoundingClientRect();\n    var x = e.pageX - (boundingRect.left + document.body.scrollLeft);\n    var y = e.pageY - (boundingRect.top + document.body.scrollTop);\n\n    return { x: x, y: y };\n};\n\n/*\n * return a copy of an object with only non-object keys\n * we need this to avoid circular references\n * https://stackoverflow.com/a/24161582/3208463\n */\nfunction simpleKeys(original) {\n    return Object.keys(original).reduce(function (obj, key) {\n        if (typeof original[key] !== 'object') {\n            obj[key] = original[key];\n        }\n        return obj;\n    }, {});\n}\n\nmpl.figure.prototype.mouse_event = function (event, name) {\n    var canvas_pos = mpl.findpos(event);\n\n    if (name === 'button_press') {\n        this.canvas.focus();\n        this.canvas_div.focus();\n    }\n\n    var x = canvas_pos.x * this.ratio;\n    var y = canvas_pos.y * this.ratio;\n\n    this.send_message(name, {\n        x: x,\n        y: y,\n        button: event.button,\n        step: event.step,\n        guiEvent: simpleKeys(event),\n    });\n\n    /* This prevents the web browser from automatically changing to\n     * the text insertion cursor when the button is pressed.  We want\n     * to control all of the cursor setting manually through the\n     * 'cursor' event from matplotlib */\n    event.preventDefault();\n    return false;\n};\n\nmpl.figure.prototype._key_event_extra = function (_event, _name) {\n    // Handle any extra behaviour associated with a key event\n};\n\nmpl.figure.prototype.key_event = function (event, name) {\n    // Prevent repeat events\n    if (name === 'key_press') {\n        if (event.key === this._key) {\n            return;\n        } else {\n            this._key = event.key;\n        }\n    }\n    if (name === 'key_release') {\n        this._key = null;\n    }\n\n    var value = '';\n    if (event.ctrlKey && event.key !== 'Control') {\n        value += 'ctrl+';\n    }\n    else if (event.altKey && event.key !== 'Alt') {\n        value += 'alt+';\n    }\n    else if (event.shiftKey && event.key !== 'Shift') {\n        value += 'shift+';\n    }\n\n    value += 'k' + event.key;\n\n    this._key_event_extra(event, name);\n\n    this.send_message(name, { key: value, guiEvent: simpleKeys(event) });\n    return false;\n};\n\nmpl.figure.prototype.toolbar_button_onclick = function (name) {\n    if (name === 'download') {\n        this.handle_save(this, null);\n    } else {\n        this.send_message('toolbar_button', { name: name });\n    }\n};\n\nmpl.figure.prototype.toolbar_button_onmouseover = function (tooltip) {\n    this.message.textContent = tooltip;\n};\n\n///////////////// REMAINING CONTENT GENERATED BY embed_js.py /////////////////\n// prettier-ignore\nvar _JSXTOOLS_RESIZE_OBSERVER=function(A){var t,i=new WeakMap,n=new WeakMap,a=new WeakMap,r=new WeakMap,o=new Set;function s(e){if(!(this instanceof s))throw new TypeError(\"Constructor requires 'new' operator\");i.set(this,e)}function h(){throw new TypeError(\"Function is not a constructor\")}function c(e,t,i,n){e=0 in arguments?Number(arguments[0]):0,t=1 in arguments?Number(arguments[1]):0,i=2 in arguments?Number(arguments[2]):0,n=3 in arguments?Number(arguments[3]):0,this.right=(this.x=this.left=e)+(this.width=i),this.bottom=(this.y=this.top=t)+(this.height=n),Object.freeze(this)}function d(){t=requestAnimationFrame(d);var s=new WeakMap,p=new Set;o.forEach((function(t){r.get(t).forEach((function(i){var r=t instanceof window.SVGElement,o=a.get(t),d=r?0:parseFloat(o.paddingTop),f=r?0:parseFloat(o.paddingRight),l=r?0:parseFloat(o.paddingBottom),u=r?0:parseFloat(o.paddingLeft),g=r?0:parseFloat(o.borderTopWidth),m=r?0:parseFloat(o.borderRightWidth),w=r?0:parseFloat(o.borderBottomWidth),b=u+f,F=d+l,v=(r?0:parseFloat(o.borderLeftWidth))+m,W=g+w,y=r?0:t.offsetHeight-W-t.clientHeight,E=r?0:t.offsetWidth-v-t.clientWidth,R=b+v,z=F+W,M=r?t.width:parseFloat(o.width)-R-E,O=r?t.height:parseFloat(o.height)-z-y;if(n.has(t)){var k=n.get(t);if(k[0]===M&&k[1]===O)return}n.set(t,[M,O]);var S=Object.create(h.prototype);S.target=t,S.contentRect=new c(u,d,M,O),s.has(i)||(s.set(i,[]),p.add(i)),s.get(i).push(S)}))})),p.forEach((function(e){i.get(e).call(e,s.get(e),e)}))}return s.prototype.observe=function(i){if(i instanceof window.Element){r.has(i)||(r.set(i,new Set),o.add(i),a.set(i,window.getComputedStyle(i)));var n=r.get(i);n.has(this)||n.add(this),cancelAnimationFrame(t),t=requestAnimationFrame(d)}},s.prototype.unobserve=function(i){if(i instanceof window.Element&&r.has(i)){var n=r.get(i);n.has(this)&&(n.delete(this),n.size||(r.delete(i),o.delete(i))),n.size||r.delete(i),o.size||cancelAnimationFrame(t)}},A.DOMRectReadOnly=c,A.ResizeObserver=s,A.ResizeObserverEntry=h,A}; // eslint-disable-line\nmpl.toolbar_items = [[\"Home\", \"Reset original view\", \"fa fa-home icon-home\", \"home\"], [\"Back\", \"Back to previous view\", \"fa fa-arrow-left icon-arrow-left\", \"back\"], [\"Forward\", \"Forward to next view\", \"fa fa-arrow-right icon-arrow-right\", \"forward\"], [\"\", \"\", \"\", \"\"], [\"Pan\", \"Left button pans, Right button zooms\\nx/y fixes axis, CTRL fixes aspect\", \"fa fa-arrows icon-move\", \"pan\"], [\"Zoom\", \"Zoom to rectangle\\nx/y fixes axis\", \"fa fa-square-o icon-check-empty\", \"zoom\"], [\"\", \"\", \"\", \"\"], [\"Download\", \"Download plot\", \"fa fa-floppy-o icon-save\", \"download\"]];\n\nmpl.extensions = [\"eps\", \"jpeg\", \"pgf\", \"pdf\", \"png\", \"ps\", \"raw\", \"svg\", \"tif\"];\n\nmpl.default_extension = \"png\";/* global mpl */\n\nvar comm_websocket_adapter = function (comm) {\n    // Create a \"websocket\"-like object which calls the given IPython comm\n    // object with the appropriate methods. Currently this is a non binary\n    // socket, so there is still some room for performance tuning.\n    var ws = {};\n\n    ws.binaryType = comm.kernel.ws.binaryType;\n    ws.readyState = comm.kernel.ws.readyState;\n    function updateReadyState(_event) {\n        if (comm.kernel.ws) {\n            ws.readyState = comm.kernel.ws.readyState;\n        } else {\n            ws.readyState = 3; // Closed state.\n        }\n    }\n    comm.kernel.ws.addEventListener('open', updateReadyState);\n    comm.kernel.ws.addEventListener('close', updateReadyState);\n    comm.kernel.ws.addEventListener('error', updateReadyState);\n\n    ws.close = function () {\n        comm.close();\n    };\n    ws.send = function (m) {\n        //console.log('sending', m);\n        comm.send(m);\n    };\n    // Register the callback with on_msg.\n    comm.on_msg(function (msg) {\n        //console.log('receiving', msg['content']['data'], msg);\n        var data = msg['content']['data'];\n        if (data['blob'] !== undefined) {\n            data = {\n                data: new Blob(msg['buffers'], { type: data['blob'] }),\n            };\n        }\n        // Pass the mpl event to the overridden (by mpl) onmessage function.\n        ws.onmessage(data);\n    });\n    return ws;\n};\n\nmpl.mpl_figure_comm = function (comm, msg) {\n    // This is the function which gets called when the mpl process\n    // starts-up an IPython Comm through the \"matplotlib\" channel.\n\n    var id = msg.content.data.id;\n    // Get hold of the div created by the display call when the Comm\n    // socket was opened in Python.\n    var element = document.getElementById(id);\n    var ws_proxy = comm_websocket_adapter(comm);\n\n    function ondownload(figure, _format) {\n        window.open(figure.canvas.toDataURL());\n    }\n\n    var fig = new mpl.figure(id, ws_proxy, ondownload, element);\n\n    // Call onopen now - mpl needs it, as it is assuming we've passed it a real\n    // web socket which is closed, not our websocket->open comm proxy.\n    ws_proxy.onopen();\n\n    fig.parent_element = element;\n    fig.cell_info = mpl.find_output_cell(\"<div id='\" + id + \"'></div>\");\n    if (!fig.cell_info) {\n        console.error('Failed to find cell for figure', id, fig);\n        return;\n    }\n    fig.cell_info[0].output_area.element.on(\n        'cleared',\n        { fig: fig },\n        fig._remove_fig_handler\n    );\n};\n\nmpl.figure.prototype.handle_close = function (fig, msg) {\n    var width = fig.canvas.width / fig.ratio;\n    fig.cell_info[0].output_area.element.off(\n        'cleared',\n        fig._remove_fig_handler\n    );\n    fig.resizeObserverInstance.unobserve(fig.canvas_div);\n\n    // Update the output cell to use the data from the current canvas.\n    fig.push_to_output();\n    var dataURL = fig.canvas.toDataURL();\n    // Re-enable the keyboard manager in IPython - without this line, in FF,\n    // the notebook keyboard shortcuts fail.\n    IPython.keyboard_manager.enable();\n    fig.parent_element.innerHTML =\n        '<img src=\"' + dataURL + '\" width=\"' + width + '\">';\n    fig.close_ws(fig, msg);\n};\n\nmpl.figure.prototype.close_ws = function (fig, msg) {\n    fig.send_message('closing', msg);\n    // fig.ws.close()\n};\n\nmpl.figure.prototype.push_to_output = function (_remove_interactive) {\n    // Turn the data on the canvas into data in the output cell.\n    var width = this.canvas.width / this.ratio;\n    var dataURL = this.canvas.toDataURL();\n    this.cell_info[1]['text/html'] =\n        '<img src=\"' + dataURL + '\" width=\"' + width + '\">';\n};\n\nmpl.figure.prototype.updated_canvas_event = function () {\n    // Tell IPython that the notebook contents must change.\n    IPython.notebook.set_dirty(true);\n    this.send_message('ack', {});\n    var fig = this;\n    // Wait a second, then push the new image to the DOM so\n    // that it is saved nicely (might be nice to debounce this).\n    setTimeout(function () {\n        fig.push_to_output();\n    }, 1000);\n};\n\nmpl.figure.prototype._init_toolbar = function () {\n    var fig = this;\n\n    var toolbar = document.createElement('div');\n    toolbar.classList = 'btn-toolbar';\n    this.root.appendChild(toolbar);\n\n    function on_click_closure(name) {\n        return function (_event) {\n            return fig.toolbar_button_onclick(name);\n        };\n    }\n\n    function on_mouseover_closure(tooltip) {\n        return function (event) {\n            if (!event.currentTarget.disabled) {\n                return fig.toolbar_button_onmouseover(tooltip);\n            }\n        };\n    }\n\n    fig.buttons = {};\n    var buttonGroup = document.createElement('div');\n    buttonGroup.classList = 'btn-group';\n    var button;\n    for (var toolbar_ind in mpl.toolbar_items) {\n        var name = mpl.toolbar_items[toolbar_ind][0];\n        var tooltip = mpl.toolbar_items[toolbar_ind][1];\n        var image = mpl.toolbar_items[toolbar_ind][2];\n        var method_name = mpl.toolbar_items[toolbar_ind][3];\n\n        if (!name) {\n            /* Instead of a spacer, we start a new button group. */\n            if (buttonGroup.hasChildNodes()) {\n                toolbar.appendChild(buttonGroup);\n            }\n            buttonGroup = document.createElement('div');\n            buttonGroup.classList = 'btn-group';\n            continue;\n        }\n\n        button = fig.buttons[name] = document.createElement('button');\n        button.classList = 'btn btn-default';\n        button.href = '#';\n        button.title = name;\n        button.innerHTML = '<i class=\"fa ' + image + ' fa-lg\"></i>';\n        button.addEventListener('click', on_click_closure(method_name));\n        button.addEventListener('mouseover', on_mouseover_closure(tooltip));\n        buttonGroup.appendChild(button);\n    }\n\n    if (buttonGroup.hasChildNodes()) {\n        toolbar.appendChild(buttonGroup);\n    }\n\n    // Add the status bar.\n    var status_bar = document.createElement('span');\n    status_bar.classList = 'mpl-message pull-right';\n    toolbar.appendChild(status_bar);\n    this.message = status_bar;\n\n    // Add the close button to the window.\n    var buttongrp = document.createElement('div');\n    buttongrp.classList = 'btn-group inline pull-right';\n    button = document.createElement('button');\n    button.classList = 'btn btn-mini btn-primary';\n    button.href = '#';\n    button.title = 'Stop Interaction';\n    button.innerHTML = '<i class=\"fa fa-power-off icon-remove icon-large\"></i>';\n    button.addEventListener('click', function (_evt) {\n        fig.handle_close(fig, {});\n    });\n    button.addEventListener(\n        'mouseover',\n        on_mouseover_closure('Stop Interaction')\n    );\n    buttongrp.appendChild(button);\n    var titlebar = this.root.querySelector('.ui-dialog-titlebar');\n    titlebar.insertBefore(buttongrp, titlebar.firstChild);\n};\n\nmpl.figure.prototype._remove_fig_handler = function (event) {\n    var fig = event.data.fig;\n    if (event.target !== this) {\n        // Ignore bubbled events from children.\n        return;\n    }\n    fig.close_ws(fig, {});\n};\n\nmpl.figure.prototype._root_extra_style = function (el) {\n    el.style.boxSizing = 'content-box'; // override notebook setting of border-box.\n};\n\nmpl.figure.prototype._canvas_extra_style = function (el) {\n    // this is important to make the div 'focusable\n    el.setAttribute('tabindex', 0);\n    // reach out to IPython and tell the keyboard manager to turn it's self\n    // off when our div gets focus\n\n    // location in version 3\n    if (IPython.notebook.keyboard_manager) {\n        IPython.notebook.keyboard_manager.register_events(el);\n    } else {\n        // location in version 2\n        IPython.keyboard_manager.register_events(el);\n    }\n};\n\nmpl.figure.prototype._key_event_extra = function (event, _name) {\n    // Check for shift+enter\n    if (event.shiftKey && event.which === 13) {\n        this.canvas_div.blur();\n        // select the cell after this one\n        var index = IPython.notebook.find_cell_index(this.cell_info[0]);\n        IPython.notebook.select(index + 1);\n    }\n};\n\nmpl.figure.prototype.handle_save = function (fig, _msg) {\n    fig.ondownload(fig, null);\n};\n\nmpl.find_output_cell = function (html_output) {\n    // Return the cell and output element which can be found *uniquely* in the notebook.\n    // Note - this is a bit hacky, but it is done because the \"notebook_saving.Notebook\"\n    // IPython event is triggered only after the cells have been serialised, which for\n    // our purposes (turning an active figure into a static one), is too late.\n    var cells = IPython.notebook.get_cells();\n    var ncells = cells.length;\n    for (var i = 0; i < ncells; i++) {\n        var cell = cells[i];\n        if (cell.cell_type === 'code') {\n            for (var j = 0; j < cell.output_area.outputs.length; j++) {\n                var data = cell.output_area.outputs[j];\n                if (data.data) {\n                    // IPython >= 3 moved mimebundle to data attribute of output\n                    data = data.data;\n                }\n                if (data['text/html'] === html_output) {\n                    return [cell, data, j];\n                }\n            }\n        }\n    }\n};\n\n// Register the function which deals with the matplotlib target/channel.\n// The kernel may be null if the page has been refreshed.\nif (IPython.notebook.kernel !== null) {\n    IPython.notebook.kernel.comm_manager.register_target(\n        'matplotlib',\n        mpl.mpl_figure_comm\n    );\n}\n",
            "text/plain": [
              "<IPython.core.display.Javascript object>"
            ]
          },
          "metadata": {},
          "output_type": "display_data"
        },
        {
          "data": {
            "text/html": [
              "<div id='89ed0c89-f07d-4912-8a1b-b6a407b7f757'></div>"
            ],
            "text/plain": [
              "<IPython.core.display.HTML object>"
            ]
          },
          "metadata": {},
          "output_type": "display_data"
        },
        {
          "data": {
            "text/plain": [
              "<AxesSubplot:xlabel='Year', ylabel='Ratio'>"
            ]
          },
          "execution_count": 19,
          "metadata": {},
          "output_type": "execute_result"
        }
      ],
      "source": [
        "sns.lineplot(data=data2, x=\"Year\", y=\"Ratio\", hue=\"Country Name\")"
      ]
    },
    {
      "cell_type": "markdown",
      "metadata": {},
      "source": [
        "### 4. Como se compara perda de floresta ao longo dos anos em cada país com os incêndios que ocorreram em cada um desses anos?"
      ]
    },
    {
      "cell_type": "code",
      "execution_count": null,
      "metadata": {},
      "outputs": [],
      "source": []
    },
    {
      "cell_type": "markdown",
      "metadata": {},
      "source": [
        "### 5. Como varia a área florestal ao longo dos anos com as atividades económicas (agricultura e mineração) de cada país?"
      ]
    },
    {
      "cell_type": "code",
      "execution_count": null,
      "metadata": {},
      "outputs": [],
      "source": []
    },
    {
      "cell_type": "markdown",
      "metadata": {},
      "source": [
        "### 6. Como se relacionam os diferentes tipos de floresta com a área florestal ardida?"
      ]
    },
    {
      "cell_type": "code",
      "execution_count": null,
      "metadata": {},
      "outputs": [],
      "source": []
    },
    {
      "cell_type": "markdown",
      "metadata": {},
      "source": [
        "### 7. Como se relaciona a densidade populacional com a área florestal em cada país ao longo do tempo?"
      ]
    },
    {
      "cell_type": "code",
      "execution_count": null,
      "metadata": {},
      "outputs": [],
      "source": []
    },
    {
      "cell_type": "markdown",
      "metadata": {},
      "source": [
        "### 8. Como se relaciona o PIB per capita com a desflorestação em cada país ao longo do tempo?"
      ]
    },
    {
      "cell_type": "code",
      "execution_count": null,
      "metadata": {},
      "outputs": [],
      "source": []
    },
    {
      "cell_type": "markdown",
      "metadata": {},
      "source": [
        "### 9. Como se relaciona a temperatura, precipitação, humidade, vento de cada país com os incêndios ocorridos por ano?"
      ]
    },
    {
      "cell_type": "code",
      "execution_count": null,
      "metadata": {},
      "outputs": [],
      "source": []
    },
    {
      "cell_type": "markdown",
      "metadata": {},
      "source": [
        "## Fim"
      ]
    }
  ],
  "metadata": {
    "colab": {
      "name": "sgd-project-2.ipynb",
      "provenance": []
    },
    "interpreter": {
      "hash": "0444508662698a2d41194ce63e8d676cc62de6fbafa21c652c35d8214224e0d3"
    },
    "kernelspec": {
      "display_name": "Python 3.9.11 ('base')",
      "language": "python",
      "name": "python3"
    },
    "language_info": {
      "codemirror_mode": {
        "name": "ipython",
        "version": 3
      },
      "file_extension": ".py",
      "mimetype": "text/x-python",
      "name": "python",
      "nbconvert_exporter": "python",
      "pygments_lexer": "ipython3",
      "version": "3.9.11"
    }
  },
  "nbformat": 4,
  "nbformat_minor": 0
}
