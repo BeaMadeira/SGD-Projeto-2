{
  "cells": [
    {
      "cell_type": "markdown",
      "metadata": {
        "id": "D2poR0XdBqsj"
      },
      "source": [
        "# Trabalho Prático Laboratorial #2"
      ]
    },
    {
      "cell_type": "markdown",
      "metadata": {},
      "source": [
        "- Usar PySpark?"
      ]
    },
    {
      "cell_type": "code",
      "execution_count": 1,
      "metadata": {
        "id": "M0HsaQakBLum"
      },
      "outputs": [],
      "source": [
        "# Import Modules\n",
        "import os\n",
        "import numpy as np\n",
        "import pandas as pd\n",
        "import seaborn as sns\n",
        "import matplotlib.pyplot as plt\n",
        "import datetime as dt"
      ]
    },
    {
      "cell_type": "code",
      "execution_count": null,
      "metadata": {
        "id": "HMYiXw5CByAa"
      },
      "outputs": [],
      "source": [
        "# Read Datasets\n",
        "path = \"./data/\""
      ]
    },
    {
      "cell_type": "markdown",
      "metadata": {},
      "source": [
        "### 1. Qual variação da área florestal de cada país ao longo do tempo?"
      ]
    },
    {
      "cell_type": "code",
      "execution_count": null,
      "metadata": {},
      "outputs": [],
      "source": []
    },
    {
      "cell_type": "markdown",
      "metadata": {},
      "source": [
        "### 2. Qual o rácio entre a área florestal e a área total de cada país?"
      ]
    },
    {
      "cell_type": "markdown",
      "metadata": {},
      "source": [
        "### 3. Como se comparam os vários países do mundo a nível de incêndios?"
      ]
    },
    {
      "cell_type": "markdown",
      "metadata": {},
      "source": [
        "### 4. Como se compara perda de floresta ao longo dos anos em cada país com os incêndios que ocorreram em cada um desses anos?"
      ]
    },
    {
      "cell_type": "markdown",
      "metadata": {},
      "source": [
        "### 5. Como varia a área florestal ao longo dos anos com as atividades económicas (agricultura e mineração) de cada país?"
      ]
    },
    {
      "cell_type": "markdown",
      "metadata": {},
      "source": [
        "### 6. Como se relacionam os diferentes tipos de floresta com a área florestal ardida?"
      ]
    },
    {
      "cell_type": "markdown",
      "metadata": {},
      "source": [
        "### 7. Como se relaciona a densidade populacional com a área florestal em cada país ao longo do tempo?"
      ]
    },
    {
      "cell_type": "markdown",
      "metadata": {},
      "source": [
        "### 8. Como se relaciona o PIB per capita com a desflorestação em cada país ao longo do tempo?"
      ]
    },
    {
      "cell_type": "markdown",
      "metadata": {},
      "source": [
        "### 9. Como se relaciona a temperatura, precipitação, humidade, vento de cada país com os incêndios ocorridos por ano?"
      ]
    },
    {
      "cell_type": "markdown",
      "metadata": {},
      "source": [
        "## Fim"
      ]
    }
  ],
  "metadata": {
    "colab": {
      "name": "sgd-project-2.ipynb",
      "provenance": []
    },
    "kernelspec": {
      "display_name": "Python 3",
      "name": "python3"
    },
    "language_info": {
      "name": "python"
    }
  },
  "nbformat": 4,
  "nbformat_minor": 0
}
